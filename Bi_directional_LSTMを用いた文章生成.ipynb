{
  "nbformat": 4,
  "nbformat_minor": 0,
  "metadata": {
    "colab": {
      "name": "Bi-directional LSTMを用いた文章生成",
      "provenance": [],
      "collapsed_sections": [],
      "toc_visible": true,
      "include_colab_link": true
    },
    "kernelspec": {
      "name": "python3",
      "display_name": "Python 3"
    },
    "accelerator": "GPU"
  },
  "cells": [
    {
      "cell_type": "markdown",
      "metadata": {
        "id": "view-in-github",
        "colab_type": "text"
      },
      "source": [
        "<a href=\"https://colab.research.google.com/github/okapee/aidialog/blob/master/Bi_directional_LSTM%E3%82%92%E7%94%A8%E3%81%84%E3%81%9F%E6%96%87%E7%AB%A0%E7%94%9F%E6%88%90.ipynb\" target=\"_parent\"><img src=\"https://colab.research.google.com/assets/colab-badge.svg\" alt=\"Open In Colab\"/></a>"
      ]
    },
    {
      "cell_type": "markdown",
      "metadata": {
        "id": "FO0ZwyfjlBC1"
      },
      "source": [
        "## 概要\n",
        "\n",
        "Bi-directional LSTMを用いてチャットボット用のロジックを実装しています。\n",
        "ここで保存したモデルと処理ロジックをHerokuにデプロイしてLINE Botを動作させます。"
      ]
    },
    {
      "cell_type": "markdown",
      "metadata": {
        "id": "1PbXPnOscXPV"
      },
      "source": [
        "## 実装"
      ]
    },
    {
      "cell_type": "code",
      "metadata": {
        "id": "YD5LVR2HXcGf"
      },
      "source": [
        "from keras.layers import Dense , Activation , Bidirectional, LSTM,Flatten\n",
        "from keras.models import Sequential \n",
        "import numpy as np"
      ],
      "execution_count": 1,
      "outputs": []
    },
    {
      "cell_type": "code",
      "metadata": {
        "id": "CMWebu94YotV"
      },
      "source": [
        "from google.colab import files"
      ],
      "execution_count": 2,
      "outputs": []
    },
    {
      "cell_type": "code",
      "metadata": {
        "id": "cXfpKyD4YwrU",
        "colab": {
          "resources": {
            "http://localhost:8080/nbextensions/google.colab/files.js": {
              "data": "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",
              "ok": true,
              "headers": [
                [
                  "content-type",
                  "application/javascript"
                ]
              ],
              "status": 200,
              "status_text": ""
            }
          },
          "base_uri": "https://localhost:8080/",
          "height": 95
        },
        "outputId": "38bb3ccd-43b1-476e-d48c-2e8c4868d83a"
      },
      "source": [
        "file = files.upload()\n",
        "!ls"
      ],
      "execution_count": 3,
      "outputs": [
        {
          "output_type": "display_data",
          "data": {
            "text/html": [
              "\n",
              "     <input type=\"file\" id=\"files-63e6d097-4392-437a-a959-c3191647f44c\" name=\"files[]\" multiple disabled\n",
              "        style=\"border:none\" />\n",
              "     <output id=\"result-63e6d097-4392-437a-a959-c3191647f44c\">\n",
              "      Upload widget is only available when the cell has been executed in the\n",
              "      current browser session. Please rerun this cell to enable.\n",
              "      </output>\n",
              "      <script src=\"/nbextensions/google.colab/files.js\"></script> "
            ],
            "text/plain": [
              "<IPython.core.display.HTML object>"
            ]
          },
          "metadata": {
            "tags": []
          }
        },
        {
          "output_type": "stream",
          "text": [
            "Saving dialog_mini.txt to dialog_mini.txt\n",
            "dialog_mini.txt  sample_data\n"
          ],
          "name": "stdout"
        }
      ]
    },
    {
      "cell_type": "code",
      "metadata": {
        "id": "AlI8DJ1BZXRv",
        "colab": {
          "base_uri": "https://localhost:8080/",
          "height": 181
        },
        "outputId": "5f640a2e-0fd8-4f7d-ec77-33f753499e23"
      },
      "source": [
        "FILE_PATH = \"./dialog_mini.txt\"\n",
        "text=\"\"\n",
        "with open(FILE_PATH, 'r',encoding=\"utf-8\") as f:\n",
        "  for line in f:\n",
        "    lines = line.split()\n",
        "    text += \" \".join(lines)\n",
        "text = text.lower()\n",
        "text"
      ],
      "execution_count": 5,
      "outputs": [
        {
          "output_type": "execute_result",
          "data": {
            "application/vnd.google.colaboratory.intrinsic+json": {
              "type": "string"
            },
            "text/plain": [
              "',,、,,する。うん。あー。昨日ー、なか、最後だったじゃん、バイトが。うん。でね、「人名1」君と,,固有名詞出してる。。「人名1」君と「人名2」と「人名3」君と,,。ちゃんが来て、で、「人名2」は、魚の皿を買ってって、で、るいちゃんは自由帳を「人名1」君に買ってもらってて、で、なんかね、そうそうそう、あの『施設名1』のさ、あのカラオケボックスあるじゃん。『施設名1』っていう。はあ、ああ、ああ、ああ。あの、「地名1」で行く、あのカラオケボックス。はいはいはい。オールするとこ。うんうんうん。あそこのー、店長と知り合いじゃん。知り合いなの。うん。知り合いなの。なんかね、『施設名1』の会員のやつ,,あーーーあ。に登録して、そしたらー、なんか、メール、ダイレクトメールが、きてて、で、なんか、店長は暇だったらしくて、あの“メル友になってください”って、あ、なんか、ちが、そういうのじゃなくて。そんなの。。ちゃ、わかんないけど。ちが、ちが、ちが。で、普通になんかdmが書いてあってー、あたしはいっつも、そんなにだって部活のときしか行かないからー、別にいつもは使ってないのにー、dmもらうのは悪いなーと思って、“すいませねー、いつも”みたいなこと返信してたら、なか、向こうから何かと返事が返ってきてて、で、まあ、それから適当になんか話をして、で、あたしが「店名1」で働いてるってことが発覚したの。あーあー。で、“ちかいじゃないすか、うち結構買いもの行ってますよ”っていう話んなって、でー、なんか、それからちょくちょく来てくれるようんなって、で、あたしが向こうに行ったときも、なか、サービスしてくれたりとか、したの。なんか、「学園祭名」んときに、「人名5」さんたちと、とか、「人名6」先輩とかと、あの行ったときにも、なか、お米、プレゼントの企画をやってて、なか、くじ引き,,カラオケで。そうそう。うん。くじ引きして、なんか当たったら、米をもらえるんだけど、1キロか2キロか忘れたな。1キロかな。うん。なんか、「人名5」さんそんときにー、食う米に困っててー、でー,,欲しかったんだ。本気で欲しかったらしくて、ほんとはでも、それ、なんか、券を持ってないとできなかったの。あーあーあーあー。でも、「人名7」店長が、“いいよ、いいよ、やってよ”とかいってやって、やらしてくれて、で、あたし、「人名5」さん以外の人は全員当たって、「人名5」さんは当たらなかったから、だからみんなで「人名5」さんにお米を、あげたりとかしてて、なんか、いろいろサービスしてくれんの。ふーーーん。で、なんか、あた、こないだ、あれいつだっけな、26日ぐらいにー、あたしがバイトに行ってたときに、あーの、「人名7」店長が来て、“あたしもう、こん、今月辞めるんですよー”とか言って。で、“今日とあと、31日しかこな、あ、明日とー、もうあと31しか来ないんですよ”とか言ってって。うんうんうん。で、“あー、じゃあ31最後なんだー”とか言って。うんうん。で、言ってってー、“はーい”とか言って、“お疲れ様ー”とかいって、“どうもありがとうございまーす”とかいって、で、そんときはクラッカーを買って帰っていって、なんか、多分用意しとかないとだめだから。、なんか。でー、なんか、そしたら昨日ほんと来てくれて、“あー、今日最後なんでしょー”とか言って、“あー、そうです”とか言って、“お疲れ様ー”とかいって,,えーーー,,。くれたんだ。超いい人だった。いい人だ。そう、。だね、カラオケ。ね。そう、だからねー、「人名8」ちゃんのね、誕生日のときにね、い、行きたい、と思ったんだけどー、どういう風になるのか分かんないじゃん。あのさー、試合後さー、ぐだぐだで「地名2」から帰ってきてさ,,そっか。めちゃ、え、しかも、試合開始2時からってことはさ,,ぐだぐだじゃん。5時、もう帰ってきて7時過ぎるとかだよね。ちが、みんなお腹減ってさー、。食べるとかなんのかな。って、ぐだぐだで家に帰って、風呂に入って、寝るみたい。あれ、誕生会はみたいな。消される、絶対そんなの消滅される。消滅する。だか、みんなでー、あたしんちに帰ってくればいんだよ、そのまま、荷物もって。そで、うちで風呂とかに入らしてー、“はい、入って入って”とか言って。で、とりあえず寝ていいからって。のときみたい。ちょっと寝させて、ご飯つくって、起こす。おい、おら起きろ、おら起きろつって。それかー。そうそうそうそう。。がーっていって、みんなでお寿司みたいな。あたし、お寿司、どうし、いけるかもしんない。お昼に行くことんなった、結。ねー、分かんないんだけどー、でも昼に、でもいいってき、ちゃんと返事を返してくれたのはー、「人名1」君とほーりしかいなくて、で、あたしが寿司行くぞってメールしたときも、「人名1」君と「人名9」から、しか、こなくって、あと、「人名10」とか。そっか。おじいちゃん行くとか言ってたよね。うん、言ってた。。、どうすんだろ。わかんない。でも昼、に、するかもしんない。だ、昼の方が多分並ばずに済むじゃん、大人数で行くんだったら。うんうん、そうだよね。そうそう。だから、昼かもしんない。うーん。軍資金もらおうっと。。うちのお父さんに。しっかりと。ちょうだーいっつって。そいで、あたしがおごってるってことにして。せこい、せこい。あたしが出しといてあげるからっつって。。なのね。1年生は500円でいいよっつって。違うのに。自分の。。。ーー。そういえば、春合宿んとき、やたら買ったよね。買い物、あれ、春合宿だっけ。買い。。あのさー、なんか、ちょっと、なんか、高級なスーパー行ったとき、春合宿だよね、あんとき。なんだっけ。1万円もらってみんなで行ったじゃん。あ、行った。「地名3」でしょ。そうそう。行ったー。あれ、春だよね。行った、行った。やったら、かご3個分ぐらい。ね。すごかったね、。、面白かった。うん。そうそうそう。みんな、買いたい放題ね。普段絶対買わないもの,,ない。。よ、あれ。なんか、高い缶コーヒーとかも入れたし。そう。買ってたー。いらねーよって感じ。。、でも、合宿んときはそのぐらいしか楽しみがないからね。買出ししかないもん、だって。「人名11」さん、ほんとに。どーうすんだろ。どうすんだろ、7日、ほんと。それ、その手がいいかも、一番。家に帰らせたら、絶対だめだと思うよ。うん、絶対みんな寝るよね。ぐだぐだだよ、ぐだぐだ。そう。あー、「地名2」か。ねー。うん。また、場所がまだ不明っていうのがおかしいよね。わかんない、誰かは分かってんのかも知んないけどー、。そうだよね。うん。ちゃ、ま、まださー、「地名2」とかでもいいからさ、駅から近いほうが。そうそう。駅からめっちゃ遠いとか、ほんとやめて欲しい。あと、「地名3」と「地名2」の境目ぐらいにしといて欲しい。あー、確かに。「地名4」だったらまだ。。まだあれぐらいならいい。って「地名2」。違うよね。あれ。,,ない。「地名3」。あれは「地名3」だよね。うん。そうだ、そうだ。「地名4」、とかだっけ。あれ、「地名5」,,。。そう。あれ。しらん。分か。かー、「人名13」んちがすごい近くてー,,あー、うん、そうそうそう。「人名13」んちが「地名4」だから、多分、そのへん。何区か分からんけど。ま、めちゃめちゃばかにしとっても、実際向こうの方が都心だからね。ね。何ともいえないよね。うちらが遠いん。、“あれー”とか。そう。なんにもなーいみたいな。確かに。そんなんも、あれやもんね。確かにそんな感じ。げー、どうなるんだろー。。って、なんで2時なの。しらない。なんだろ。向こうの都合かな、グランドかな。暑そうだよね、2時からって。うん。ま、天気どうなるかわかん。のこと雨になってしまえ。ゆっちゃった。くそ、くそ。カメラ目線で、くそっ。雨だったら、もう中止なのかな。中止やろ。だって、練習試合やん。中止にしたいんでしょ、ねえ、ねえ。いーやん、別に、朝から、昼から、うちに集まればいいやん、別に。半切れ。。、半切れ。あーあーあー、「大学名」ね。しかも、どうせ金属でしょ、みたいなね。絶対、あいつら金属だよね。うん。なんか、そういう話をしてたの、けいけいに。そしたらね、なんか、“いやー、でもリーグ戦じゃ木でやってるだろ”とか。。そうなの。うん。なんか言ってた。や、木じゃねーのとかいって。じゃ、なんで。は、別にどっちでもいい、から、どっち、なんか金属なんじゃねーの”とかいって。。の。あれってなんか、「大学名」,,金属だから。、そうそう、って聞いた、。、でも、あたしはね、あの『スポーツの大疑問』をね、読んだらー、大学生と社会人は、木だって書いてあって。えー。金属だとー、飛びすぎるからー,,だよ。めだって書いてあって。じゃ、。何なの、「大学名」って、と思って。分かんないね。なぞ。え、ね、ショートは何だったの。分かった。。でショートっていうのか。あと、何で『遊撃手』っていうのかも分かった。あー、#######んだ。あのねー、忘れた。あの、なんかねー、ちゃう、むかし,,。は、10人でやってたの。は。うん。そんでー,,え、。後ろに、。にいるんだ。そうそうそう。はいはいはい。2人いて,,2人。だから、ピッチャーの後ろに、ショートともう一人、こう、。、はいはいはい。だか、もう、ベースに一人ずつとー,,。トがいたってことか。そう。。、あ、そういうことか。ショートと,,。2人いてー。あーあー。え、そうだったんだ。だか、もともとはピッチャーの後ろにいたから、近い、から。ショートなの。そう。ほんとに。ショート。ほんとに。今作ったでしょ、その場で。ちがう、ちがう、10人でやってたのはほんと。あー、うんうんうんうん。まー、そんな感じ。で、遊撃手ってゆうのは、こう、塁にとらわれずに、自由に動いてー、活躍するから、こう、,,ーー。『遊ぶ』っていう。はいはいはい。自由に動いて。攻撃。撃手』なんだ。なるほどね。名前がかっこいいよね。うん。遊撃手。番かっこいいよね。右翼とか左翼とかやだよね。それは違うけど。右翼、右翼、とかいう。。右翼、左翼っていう。右翼じゃなくって、右翼って。右翼。よくわかんないけど。そえば、これさー、ちっと開けなきゃいけないのかなー。うん。あ、なんか赤字で書いてある。こんな機会だ。ら言える。また。あーー。やっぱ、この人みんなこれなのかな。へーーーー。こんな機会なんだ。別にねー、ないよねー。「あだ名」はねー、あのねー、別に今だから言うわけじゃないけどね、結構ばかだよ。うそー。だって、結構さ,,。ね、しっかりしてる、しっかりしてるけど。すっごいフォローされてるな、あたし。えーーー、あ、。そうそうそうそうそう。あー、そっか。あ、これ開けた、これ開けた。そうそうそう。そしてー,,馬鹿とかいう。なんだろうー。。、がんばるよね、いろいろね。あーー。でも、結構さー、なんか、ob用の葉書のさー、やつで、なんか、葉書の、あの印字がさ、斜めってってもさそのままにしたりとかしてさ。あたしは何気に、あれは自分で直した。やっぱだめかー。うん。そういうところもあるね。なんかね、葉書がもったいないとかいって。。、これでとかいって。2円で交換できるじゃん、2円で。そうなんだよねー。確か2円だよね。だね。あたしあれだよね、直前にならないとやらない。あー。あー、あたしもそうだね。そうかー。「あだ名」、すごい前もってやってそうな。「あだ名」はね、やっぱ面倒見がいい。あーー。すごい,,。思う。チビッ子が好きだからね。あーーー。そうそうそう。あー、おかしい。。ばかとか言って。まーじー。ばか。まじ。ばかかー。いや、あの、いい意味でね。いい意味で。だってさー、別に勉強できないわけじゃないじゃん。。別にさー。だって、試験受かったじゃん。。試験受かってんじゃん。試験、入試とかめちゃ懐かしいよね。ね。ほんと。まじ今やれって言われたら無理だね。絶対,,,,。ちゃうちゃう、あれでさー、でさ、最初にさ、そ、部活で会ってさ、「人名14」さんちに行った、。こがしたとこね。そう、すっごい懐かしいよね。あんときって、なに、「人名14」さんと「人名15」先輩と「人名11」が。いてー、しかもそんとき、なんか、あのさ、キッチンと、こう、つながってるとこ、戸、閉めてさー、なんか、なんか話してたよねー。うん。で、なんか、「人名15」先輩に彼女がいるんだよ。そうそうそう。ビックリだよねっていう話とかもしてたような。え、あの、こそこそ話してたんだよね。そうだ、そうだ。あれ、なんか、カラオケんときはー、「人名16」さんとかいたよね。うん。おにぎり持ってった時でしょ。うん。いた。いた、いた。でも、バイト、かなんか分かんないけど、それで帰ってー。あー、帰ったっけ。あ、でー、その後でー、行ったんだ。あと,,,,いなかった。うん、いたいたいたいた。いた、いた。てか、なんであんときさー、「人名14」さんちに行ってさー、ご飯作るって話になったの。ん分かんない。分かんないね。“どうする、どうする”って、ぐだぐだしてて。で、あれなんかさ、西友に行ったんだよね。行ったね。西友で買い物したんだよ、「地名5」の。した、した、した。そんでー、なんか、そこでメニュー決めた、だっけ。わかんない。パスタ作ったっけ。うん。そうそうそう。なんかミートソース作った。。んだ、ぐだぐだで。あんまりおいしくないとかいって。そして、「あだ名」さんが箸を焦がしー,,焦がした。パスタがー、鍋にこびりつき。そんなことまでしたっけ。こびりついてて、“やべー、これとれねー”とかいって,,あー、なってた気がする。でー、あの、みんな食べてるときにちゃんと水につけといたらー、ちゃんと、ふやけて、とれた。で、めでたしめでたし。あーーーー、そうだ。さんちにさ、なんかスパゲッティの麺があるとか言ってさー、それでやったんだ、多分。そうだそうだ。なつかしい。そうそうそうそうそうそう。へーーー。なんかねー、なつかしいねー。なん、何だかんだ言って、うちらももうね、4年だもんね。早ーい。ね。何してたっけ。わかんない。合宿で毎回爆笑してたのぐらいしか覚えてないんだけど。「あだ名」もあほじゃん。うっせーよ。今ごろ気づいてんじゃねーよ。ちがうよ、それにさ、ちがうんだよ、だから、あたしが言ってるのをさ、馬鹿笑いしてるあんたがおかしんだよ。何がおかしいか分かんないんだよ、だいたい。。。「あだ名」がおかしいんだって。。からー、なんかね、全てがおかしいの。は。何が。私以外でも、面白いの。分かんない、しかも、合宿のときにくるんだよね、なんか、すごく。疲れてんじゃないの。あー、疲れに効くのかもね。。ときにくると、そう、すっごいツボにくるんだよ。もう、。、疲れてるときはね、ぼーんてしちゃだめなんだよ、やっぱり。笑うのは大事なんだよ。。なるじゃん。うん。絶対それ大切だよ。まー、あたしはその辺はね、いろいろとこう計算してるんですよ。がんばってんのか。無理してんのか。うそ。なんだそれ。全然ウソ。全然ウソ。そうそうそうそう。なんかねー、なんだろう、合宿はー、ブランコとか、乗ったよね、一年の夏んときに。うん。。よね。あそこよかったね。バーベキュー,,。パイナップル出してくれたしさ。確かに。あそこほんとよかったよね。。、あれ、ただお化けが出るって噂だったよね。うん。ま、でも、お化けは。ね、素っ裸の男が出たって。。出たー。お尻丸出し、みたいなね。でも、あたし、大体合宿でああいうハプニングが何らかある気がする。なんでだろうね。まー、合宿だ。う星の下に生まれたんじゃないの。やだよ。どんな星。やだ、まじ。「人名16」だったら喜んでるな。ね。喜んでる。追いかけてってる、多分。あー、おかしー。あーあー。1年、何か、2年の、あと、1年のー春は、「施設名1」だっけ。「施設名1の一部」え、あ、そうそう、「施設名1」。「施設名1」。「施設名1」だよね。2年の夏は。「地名6」。あ、あれ2年か。。春がー、「地名7」。じゃない、それ3年だ。「地名8」。「地名8」いつ。。。。いつよ。「地名10」が、3年の春。うそだー。うそだー。3春、いないから。お前、ウソばっかついてんじゃねーよ。2春だ。2春、「地名10」よ。そうそうそう。でー、3夏が「地名11」でしょ。そうそうそう。あ、「地名6」が「地名8」スタジアムだもんね。そう。で、,,だけど、スタジアムはよかったって。が、1春。だね。1春が「地名9」だ。「施設名1」が、「地名9」。で、2春が、そうそう、3夏が「地名11」で、3春が、こないだ、こないだ、。。夏が,,なんだっけ。。。で、4春は、どこでしょう、みたいな。ね。うちら、行くよね、きっとね。オールシーズンだ。きっといくんだろうね。行くのかなー。全部参加か。。ー。早いよ、4年間。早いねー。何か「部活名」ばっかだよね、思い出ってね。写真とか見るとすごいもん。うん。最近はまだいいけど、1年、1年もまあ、クラスとかあるけど、2年、3年ら辺って。ねー。忙しかったもんね。なんか、なんか、,,帰ってないし。うん。な、「試合名2」と合宿の写真が交互にくるぐらいだもん。すーごいなこれ、と思った。夏、合宿、「試合名2」、春,,宿。。。「試合名2」、春合宿みたいな。たまに「学園祭名」みたいな、なんか。「学園祭名」で酔っ払ってる、みたいな。そうそうそうそう。すごいよ、ほんと。、そうだ。だってさ、その大学生活を振り返るときに、絶対合宿どこ行ったっけで思い出す。。それで、大体付随して思い出すよね。そうそうそうそう。今年、「学園祭名」どうするんだろう。分かんない。。きっと働くんだよね。だって,,。って、一年生2人は料理店でしょ。うん。ま、3年、。しいじゃん。うん。「小さい学科」だから、。、3、4年がいないからね。1、2年がいっぱいいるけど。難しい。だから、結局、うち2人と、ゆうこぐらいか。しかも、なんかー、うちでも、そう、「学園祭名」の直後ぐらいにー、卒論の第一締め切りみたいなのがあって、だから、なん、“「学園祭名」中は旅行に行かないでください”とか先生に言われて、がーんって思った。まじで。あー、遊べないじゃん、とか思って。え、何それ。きょ、え、教務課、に出すの。ちゃうちゃう、じゃなくて,,。が読むために、そんな,,。んなってから、直前に出されても読めないからー、。。第一締め切りに出してー、そっからまたちょっと直して、ぐらいに。。だよね。やばい。どうしよ、まじ、卒論。やーばい。やってる、ほんとに。やってねーよ。本気でやばいよね。うん。どうしよ。。ほんと、怒られ。しなきゃ。やってないなー。すごいやばーい。なんか、去年までってさ、やっぱ、必須じゃないからさ、結構みんな適当,,ほんとだ。いてたりとかしてるらしいん、けど。やーばい。しか。。だって卒論の8単位の代わりにさ、授業二つとるだけって、。。おかしいよ、そんなの。ね。だって、卒論にかける時間とさ、その,,。時間がさ。しかもさ、じゃあ余裕な授業とかとってしまえば,,ねー。もう。えー、だって、なんだよー。ねーー。あたしだったら書かないね。書かない。書かずに普通に部活してるよね。確かに。なんだよ。けど、あーそうだ、なんかね、「企業名」のなんかね、配属の希望を、とりたい系のね、やつが来た、なんか。うん。うん。あの、郵便で。あーあーあー。別にあくまでー、あの、参考にするだけですみたいなこと書いてあったけど、なんか、意気込みを、自分はこの売場でこういうことをしたいですとかさ,,はーーー。そういうのは、あったら書いてくださいっていう、やつが来て、あとなんか、今、その、こん、4月の時点で、あの、住んでるところ、の、最寄駅、何線の最寄駅っていうのを、書いてくださいとかいって、引っ越す人は、まあ大体でいいですとかいって。'"
            ]
          },
          "metadata": {
            "tags": []
          },
          "execution_count": 5
        }
      ]
    },
    {
      "cell_type": "code",
      "metadata": {
        "id": "2EJewbsWY05L"
      },
      "source": [
        "chars = set(text)\n",
        "nb_chars = len(chars)\n",
        "char2index = dict((c,i) for i , c in enumerate(chars))\n",
        "index2char = dict((i,c) for i , c in enumerate(chars))"
      ],
      "execution_count": 6,
      "outputs": []
    },
    {
      "cell_type": "code",
      "metadata": {
        "id": "DSznAgDacnP_"
      },
      "source": [
        "SEQLEN = 10\n",
        "STEP = 1\n",
        "\n",
        "input_chars = []\n",
        "label_chars = []\n",
        "\n",
        "for i in range( 0,len(text) - SEQLEN , STEP ):\n",
        "  input_chars.append(text[i:i+SEQLEN])  \n",
        "  label_chars.append(text[i+SEQLEN])  \n",
        "  \n",
        "  "
      ],
      "execution_count": 7,
      "outputs": []
    },
    {
      "cell_type": "code",
      "metadata": {
        "id": "fSeBchnzcsYX"
      },
      "source": [
        "X = np.zeros((len(input_chars),SEQLEN,nb_chars),dtype=np.float32)\n",
        "Y = np.zeros((len(input_chars),nb_chars),dtype=np.float32)\n",
        "for i , input_char in enumerate(input_chars):\n",
        "  for j , ch in enumerate(input_char):\n",
        "    X[i,j,char2index[ch]] = 1\n",
        "  Y[i,char2index[label_chars[i]]] = 1\n",
        "    \n"
      ],
      "execution_count": 9,
      "outputs": []
    },
    {
      "cell_type": "code",
      "metadata": {
        "id": "-xQ_hc1BIikH",
        "colab": {
          "base_uri": "https://localhost:8080/"
        },
        "outputId": "99165879-eeb5-46cf-f70a-6f090c8137cf"
      },
      "source": [
        "X.shape"
      ],
      "execution_count": 10,
      "outputs": [
        {
          "output_type": "execute_result",
          "data": {
            "text/plain": [
              "(8200, 10, 443)"
            ]
          },
          "metadata": {
            "tags": []
          },
          "execution_count": 10
        }
      ]
    },
    {
      "cell_type": "code",
      "metadata": {
        "id": "NOtPSTrJfbEN",
        "colab": {
          "base_uri": "https://localhost:8080/"
        },
        "outputId": "5514674f-3804-4009-d3f6-fe7dea89a8b4"
      },
      "source": [
        "HIDDEN_SIZE = 128\n",
        "BATCH_SIZE = 128\n",
        "NUM_ITERATIONS = 50\n",
        "NUM_EPOCHS_PER_ITERATION = 1\n",
        "NUM_PREDS_PER_EPOCH = 100\n",
        "\n",
        "model = Sequential()\n",
        "model.add(Bidirectional( LSTM(HIDDEN_SIZE, input_shape=(SEQLEN , nb_chars))))\n",
        "model.add( Dense ( nb_chars ))\n",
        "model.add( Activation ( \"softmax\" )) \n",
        "model.compile( loss = \"categorical_crossentropy\" , optimizer = \"rmsprop\" )\n",
        "\n",
        "for iteration in range(NUM_ITERATIONS):\n",
        "  print(\"=\" * 50)\n",
        "  print(\"Iteration #: %d\" % (iteration))\n",
        "  model.fit(X,Y,batch_size=BATCH_SIZE,epochs=NUM_EPOCHS_PER_ITERATION)\n",
        "  test_index = np.random.randint(len(input_chars))\n",
        "  test_chars = input_chars[test_index]\n",
        "  print(\"Generating form sead: {}\".format(test_chars))\n",
        "  print(test_chars , end=\"\")\n",
        "  for i in range(NUM_PREDS_PER_EPOCH):\n",
        "    Xtest = np.zeros((1,SEQLEN,nb_chars))\n",
        "    for i , ch in enumerate(test_chars):\n",
        "      Xtest[0,i,char2index[ch]]=1\n",
        "    pred = model.predict(Xtest,verbose=0)[0]\n",
        "    ypred = index2char[np.argmax(pred)]\n",
        "    print(ypred,end=\"\")\n",
        "    test_chars = test_chars[1:] + ypred\n",
        "  print() \n",
        "   "
      ],
      "execution_count": 11,
      "outputs": [
        {
          "output_type": "stream",
          "text": [
            "==================================================\n",
            "Iteration #: 0\n",
            "65/65 [==============================] - 1s 8ms/step - loss: 4.6119\n",
            "Generating form sead: 「地名8」。「地名8\n",
            "「地名8」。「地名8、、名名、名名名、名名名、名名名、名名名、名名名、名名名、名名名、名名名、名名名、名名名、名名名、名名名、名名名、名名名、名名名、名名名、名名名、名名名、名名名、名名名、名名名、名名名、名名名、名名名\n",
            "==================================================\n",
            "Iteration #: 1\n",
            "65/65 [==============================] - 1s 9ms/step - loss: 4.2559\n",
            "Generating form sead: そう、すっごい懐かし\n",
            "そう、すっごい懐かし。。。」。。」。。」。。」。。」。。」。。」。。」。。」。。」。。」。。」。。」。。」。。」。。」。。」。。」。。」。。」。。」。。」。。」。。」。。」。。」。。」。。」。。」。。」。。」。。」。。」\n",
            "==================================================\n",
            "Iteration #: 2\n",
            "65/65 [==============================] - 1s 8ms/step - loss: 4.1134\n",
            "Generating form sead: 。あの、なんかねー、\n",
            "。あの、なんかねー、、、あ、、あ、あ、、あ、あ、、あ、あ、、あ、あ、、あ、あ、、あ、あ、、あ、あ、、あ、あ、、あ、あ、、あ、あ、、あ、あ、、あ、あ、、あ、あ、、あ、あ、、あ、あ、、あ、あ、、あ、あ、、あ、あ、、あ、あ、、\n",
            "==================================================\n",
            "Iteration #: 3\n",
            "65/65 [==============================] - 1s 9ms/step - loss: 4.0124\n",
            "Generating form sead: じゃん。知り合いなの\n",
            "じゃん。知り合いなの、あ、あ、あ、あ、あ、あ、あ、あ、あ、あ、あ、あ、あ、あ、あ、あ、あ、あ、あ、あ、あ、あ、あ、あ、あ、あ、あ、あ、あ、あ、あ、あ、あ、あ、あ、あ、あ、あ、あ、あ、あ、あ、あ、あ、あ、あ、あ、あ、あ、あ\n",
            "==================================================\n",
            "Iteration #: 4\n",
            "65/65 [==============================] - 1s 9ms/step - loss: 3.9307\n",
            "Generating form sead: んのか。うそ。なんだ\n",
            "んのか。うそ。なんだ。。。そ。そ。う。そ。う。そ。う。そ。う。そ。う。そ。う。そ。う。そ。う。そ。う。そ。う。そ。う。そ。う。そ。う。そ。う。そ。う。そ。う。そ。う。そ。う。そ。う。そ。う。そ。う。そ。う。そ。う。そ。う\n",
            "==================================================\n",
            "Iteration #: 5\n",
            "65/65 [==============================] - 1s 8ms/step - loss: 3.8528\n",
            "Generating form sead: 言って、“あー、そう\n",
            "言って、“あー、そうう、そううう。そう。う。そう。う。そう。う。そう。う。そう。う。そう。う。そう。う。そう。う。そう。う。そう。う。そう。う。そう。う。そう。う。そう。う。そう。う。そう。う。そう。う。そう。う。そう。\n",
            "==================================================\n",
            "Iteration #: 6\n",
            "65/65 [==============================] - 1s 9ms/step - loss: 3.7708\n",
            "Generating form sead: 、駅から近いほうが。\n",
            "、駅から近いほうが。ううって、、あ、あ、あ、あ、「名」」とととか、しって、、あ、あ、あ、あ、「名」」とととか、しって、、あ、あ、あ、あ、「名」」とととか、しって、、あ、あ、あ、あ、「名」」とととか、しって、、あ、あ、あ、\n",
            "==================================================\n",
            "Iteration #: 7\n",
            "65/65 [==============================] - 1s 9ms/step - loss: 3.6975\n",
            "Generating form sead: 何かと返事が返ってき\n",
            "何かと返事が返ってき、、あ、、あ、、あ、「名名」「」」、「名名」「」」、「名名」「」」、「名名」「」」、「名名」「」」、「名名」「」」、「名名」「」」、「名名」「」」、「名名」「」」、「名名」「」」、「名名」「」」、「名\n",
            "==================================================\n",
            "Iteration #: 8\n",
            "65/65 [==============================] - 1s 8ms/step - loss: 3.6164\n",
            "Generating form sead: じ。「人名16」だっ\n",
            "じ。「人名16」だってた、、「名名」、」たん、、「名名」、」たん、、「名名」、」たん、、「名名」、」たん、、「名名」、」たん、、「名名」、」たん、、「名名」、」たん、、「名名」、」たん、、「名名」、」たん、、「名名」、」\n",
            "==================================================\n",
            "Iteration #: 9\n",
            "65/65 [==============================] - 1s 9ms/step - loss: 3.5334\n",
            "Generating form sead: 。でも、結構さー、な\n",
            "。でも、結構さー、なんか、「人名1」、」ん、「人名1」、」ん、「人名1」、」ん、「人名1」、」ん、「人名1」、」ん、「人名1」、」ん、「人名1」、」ん、「人名1」、」ん、「人名1」、」ん、「人名1」、」ん、「人名1」、」\n",
            "==================================================\n",
            "Iteration #: 10\n",
            "65/65 [==============================] - 1s 8ms/step - loss: 3.4468\n",
            "Generating form sead: 、そうです”とか言っ\n",
            "、そうです”とか言ってて、なんかかって、してた、したたしたいいた。。あ、あたしたった。。あ、あた、あしたったったい。。あ、あたしたった。。あ、あた、あしたったったい。。あ、あたしたった。。あ、あた、あしたったったい。。あ\n",
            "==================================================\n",
            "Iteration #: 11\n",
            "65/65 [==============================] - 1s 8ms/step - loss: 3.3628\n",
            "Generating form sead: パイナップル出してく\n",
            "パイナップル出してく、あ、あ、、あ、あ、あ、あ、あ、あ、あ、あ、あ、あ、あ、あ、あ、あ、あ、あ、あ、あ、あ、あ、あ、あ、あ、あ、あ、あ、あ、あ、あ、あ、あ、あ、あ、あ、あ、あ、あ、あ、あ、あ、あ、あ、あ、あ、あ、あ、あ、\n",
            "==================================================\n",
            "Iteration #: 12\n",
            "65/65 [==============================] - 1s 9ms/step - loss: 3.2793\n",
            "Generating form sead: ね。うん。なんか、そ\n",
            "ね。うん。なんか、そんか、、「人名」さんんん、「人名名」んんん、「人名名」んんん、「人名名」んんん、「人名名」んんん、「人名名」んんん、「人名名」んんん、「人名名」んんん、「人名名」んんん、「人名名」んんん、「人名名」ん\n",
            "==================================================\n",
            "Iteration #: 13\n",
            "65/65 [==============================] - 1s 8ms/step - loss: 3.1989\n",
            "Generating form sead: とかいってやって、や\n",
            "とかいってやって、やんか。そううううう。そうう。そうう。そうそう。そうそうそう。そうそう。そうそうそう。そうそう。そうそうそう。そうそう。そうそうそう。そうそう。そうそうそう。そうそう。そうそうそう。そうそう。そうそうそ\n",
            "==================================================\n",
            "Iteration #: 14\n",
            "65/65 [==============================] - 1s 8ms/step - loss: 3.1175\n",
            "Generating form sead: ず寝ていいからって。\n",
            "ず寝ていいからって。。で、あしたしたしから、なんか。。なんか、なんか、なんか、なんか、なんか、なんか、なんか、なんか、なんか、なんか、なんか、なんか、なんか、なんか、なんか、なんか、なんか、なんか、なんか、なんか、なんか\n",
            "==================================================\n",
            "Iteration #: 15\n",
            "65/65 [==============================] - 1s 9ms/step - loss: 3.0469\n",
            "Generating form sead: 、かなんか分かんない\n",
            "、かなんか分かんないけ。そうそうそう。そう。そう。そう。そう。そう。そう。そう。そう。そう。そう。そう。そう。そう。そう。そう。そう。そう。そう。そう。そう。そう。そう。そう。そう。そう。そう。そう。そう。そう。そう。そ\n",
            "==================================================\n",
            "Iteration #: 16\n",
            "65/65 [==============================] - 1s 8ms/step - loss: 2.9677\n",
            "Generating form sead: れから適当になんか話\n",
            "れから適当になんか話分て。あ、あーーあー。ああ、あ、ああああああああああああああああああああああああああああああああああああああああああああああああああああああああああああああああああああああああああああああああああああ\n",
            "==================================================\n",
            "Iteration #: 17\n",
            "65/65 [==============================] - 1s 9ms/step - loss: 2.8977\n",
            "Generating form sead: うちに集まればいいや\n",
            "うちに集まればいいやーーー。うか、そううそうそう。そう。あー、あー、あか、あ、あ、あ、ああ、ああああああああああああああああああああああああああああああああああああああああああああああああああああああああああああああああ\n",
            "==================================================\n",
            "Iteration #: 18\n",
            "65/65 [==============================] - 1s 8ms/step - loss: 2.8210\n",
            "Generating form sead: 試合名2」と合宿の写\n",
            "試合名2」と合宿の写宿ににににににして、なんなん、なんか、なんだ。、そうそうそう。うだって、なんか、なんか、「人名1」君ととか、「人名1」君ととか、「人名1」君ととか、「人名1」君ととか、「人名1」君ととか、「人名1」君\n",
            "==================================================\n",
            "Iteration #: 19\n",
            "65/65 [==============================] - 1s 8ms/step - loss: 2.7573\n",
            "Generating form sead: 祭名」んときに、「人\n",
            "祭名」んときに、「人名1」君と,,,,。が。ゃって。ゃん。そう。そう。そう。そう。そう。そう。そう。そう。そう。そう。そう。そう。そう。そう。そう。そう。そう。そう。そう。そう。そう。そう。そう。そう。そう。そう。そう。\n",
            "==================================================\n",
            "Iteration #: 20\n",
            "65/65 [==============================] - 1s 9ms/step - loss: 2.6799\n",
            "Generating form sead: 後さー、ぐだぐだで「\n",
            "後さー、ぐだぐだで「地名5」して、「人名1」君ととがいいいて、あれ、ことか、これって、これときれた。なんか、ど、そうううんうんうんないいた。なんか、なんか、こんなって、これれた。でなんか、そうそうそうそうそうそうそうそう\n",
            "==================================================\n",
            "Iteration #: 21\n",
            "65/65 [==============================] - 1s 8ms/step - loss: 2.6171\n",
            "Generating form sead: ん。うん。あの、郵便\n",
            "ん。うん。あの、郵便ない。あーーーー。あ、あ、で、「人名1」さんと、「人名1」さんとか、「人名1」さんと、「人名1」さんとか、「人名1」さんと、「人名1」さんとか、「人名1」さんと、「人名1」さんとか、「人名1」さんと、\n",
            "==================================================\n",
            "Iteration #: 22\n",
            "65/65 [==============================] - 1s 8ms/step - loss: 2.5507\n",
            "Generating form sead: いた。いた、いた。て\n",
            "いた。いた、いた。て、あたしたしたね、そうか。そうそうそう。そう。「地名1」は「地名2」の。「地名2」。。「地名1」。「地名2」の。「地名2」。。「地名1」。「地名2」の。「地名2」。。「地名1」。「地名2」の。「地名2\n",
            "==================================================\n",
            "Iteration #: 23\n",
            "65/65 [==============================] - 1s 8ms/step - loss: 2.4809\n",
            "Generating form sead: 書かない。書かずに普\n",
            "書かない。書かずに普年いていていの。あ、あ、「地名1」「地名」。「地名」。「地名」。「地名」。「地名」。「地名」。「地名」。「地名」。「地名」。「地名」。「地名」。「地名」。「地名」。「地名」。「地名」。「地名」。「地名\n",
            "==================================================\n",
            "Iteration #: 24\n",
            "65/65 [==============================] - 1s 9ms/step - loss: 2.4152\n",
            "Generating form sead: いのにー、dmもらう\n",
            "いのにー、dmもらうのはー、なっと、やって、やってるん。で、そうんだよね、そうった。うんだよね、そうった。うんだよね、そうった。うんだよね、そうった。うんだよね、そうった。うんだよね、そうった。うんだよね、そうった。うん\n",
            "==================================================\n",
            "Iteration #: 25\n",
            "65/65 [==============================] - 1s 8ms/step - loss: 2.3536\n",
            "Generating form sead: か、今、その、こん、\n",
            "か、今、その、こん、で、それれたらね。買ったい。。なんか、そうそうそうそうそう。そう。そう。そう。そう。そう。そう。そう。そう。そう。そう。そう。そう。そう。そう。そう。そう。そう。そう。そう。そう。そう。そう。そう。そ\n",
            "==================================================\n",
            "Iteration #: 26\n",
            "65/65 [==============================] - 1s 8ms/step - loss: 2.2924\n",
            "Generating form sead: ない。でも昼、に、す\n",
            "ない。でも昼、に、すんか、そうんそうそうそうそうそうそうそうそうそうそうそうそうそうそうそうそうそうそうそうそうそうそうそうそうそうそうそうそうそうそうそうそうそうそうそうそうそうそうそうそうそうそうそうそうそうそうそう\n",
            "==================================================\n",
            "Iteration #: 27\n",
            "65/65 [==============================] - 1s 8ms/step - loss: 2.2191\n",
            "Generating form sead: て話になったの。ん分\n",
            "て話になったの。ん分かないなんか、なんから、なんかして、なのか、なんか、なの書て、なのかしな。なんか、なんか、なんか、「人名5」さんとかにしいたった。で、あたしたしいで、あたしたしたしら、あたなんかね。なんか、なんか、な\n",
            "==================================================\n",
            "Iteration #: 28\n",
            "65/65 [==============================] - 1s 9ms/step - loss: 2.1555\n",
            "Generating form sead: 、そんときはクラッカ\n",
            "、そんときはクラッカラオケ。で、そうそう。なんか、「地名1」で,,。。そうそう。そう。「地名1」は「施設名1」。「施設名1」。「施設名1」。「施設名1」。「施設名1」。「施設名1」。「施設名1」。「施設名1」。「施設名1\n",
            "==================================================\n",
            "Iteration #: 29\n",
            "65/65 [==============================] - 1s 9ms/step - loss: 2.0979\n",
            "Generating form sead: んか、そういう話をし\n",
            "んか、そういう話をしてて、あた、あー、「人名1」んと「人名1」の君と「人名1」がんとか、「人名1」んとか、「人名1」のとか、「人名1」のとか、「人名1」のとか、「人名1」のとか、「人名1」のとか、「人名1」のとか、「人名\n",
            "==================================================\n",
            "Iteration #: 30\n",
            "65/65 [==============================] - 1s 8ms/step - loss: 2.0308\n",
            "Generating form sead: 何気に、あれは自分で\n",
            "何気に、あれは自分でしてあーあー。あー、「地名2」と「地名2」か。。「地名2」と「地名2」か。。「地名2」と「地名2」か。。「地名2」と「地名2」か。。「地名2」と「地名2」か。。「地名2」と「地名2」か。。「地名2」と\n",
            "==================================================\n",
            "Iteration #: 31\n",
            "65/65 [==============================] - 1s 8ms/step - loss: 1.9717\n",
            "Generating form sead: れたんじゃないの。や\n",
            "れたんじゃないの。やって。やるるの。で、なんか、なのか、「学名」ってのときに、なって、「人名1」さんとか、「人名1」さんとか、「人名1」さんとか、「人名1」さんとか、「人名1」さんとか、「人名1」さんとか、「人名1」さん\n",
            "==================================================\n",
            "Iteration #: 32\n",
            "65/65 [==============================] - 1s 9ms/step - loss: 1.9076\n",
            "Generating form sead: なんか、去年までって\n",
            "なんか、去年までってじゃの。。10」てさーってってう。えー、で、で、合宿ん寿ン下の下たいからしかなんなから、「人名1」さんとか、行っての、別ににってるて、で、あれたしんだけど。あー、あの、あのさ、後るんだけど、わかも、な\n",
            "==================================================\n",
            "Iteration #: 33\n",
            "65/65 [==============================] - 1s 9ms/step - loss: 1.8499\n",
            "Generating form sead: 。よね。あそこよかっ\n",
            "。よね。あそこよかった。ね、そうそうそうだ。あーー、「地名1」で、「人名2」とさ,,,,。。。うー。。あれ、「地名2」か。。そうそう。。だって、「地名2」と。「人名2」とか、「人名1」君とか、「人名1」君とか、「人名1」\n",
            "==================================================\n",
            "Iteration #: 34\n",
            "65/65 [==============================] - 1s 9ms/step - loss: 1.7889\n",
            "Generating form sead: っごいツボにくるんだ\n",
            "っごいツボにくるんだよ。もう、そう。そう。で、あー、「地名」さん。で、そうそうそうそうそう。あー、「地名3」で、そうそうそうそうそう。あー、「地名3」で、そうそうそうそうそう。あー、「地名3」で、そうそうそうそうそう。あ\n",
            "==================================================\n",
            "Iteration #: 35\n",
            "65/65 [==============================] - 1s 9ms/step - loss: 1.7260\n",
            "Generating form sead: 人みんなこれなのかな\n",
            "人みんなこれなのかないって。。あ、あの、春合宿の、「施設名」たの。「施設名1」の。「施設名1」の。「施設名1」の。「施設名1」の。「施設名1」の。「施設名1」の。「施設名1」の。「施設名1」の。「施設名1」の。「施設名1\n",
            "==================================================\n",
            "Iteration #: 36\n",
            "65/65 [==============================] - 1s 8ms/step - loss: 1.6606\n",
            "Generating form sead: うちらが遠いん。、“\n",
            "うちらが遠いん。、“、とかめとしいうん。あー、おかいね。うんか。うんだよね。うんだった。。そう、そうそう。うー。あー、「地名2」で、「地名2」と,。。そう。あー。あー、「地名」ね。うそう。う、そうだ。うん。。「地名3」だ\n",
            "==================================================\n",
            "Iteration #: 37\n",
            "65/65 [==============================] - 1s 8ms/step - loss: 1.6088\n",
            "Generating form sead: っていう話んなって、\n",
            "っていう話んなって、“あたなのとかしから、なんから、ちがってくって、で、“ょも、入ってって。おき、なんか、そうそうそうそうそうそうそうそうそうそうそうそうそうそうそうそうそうそうそうそうそうそうそうそうそうそうそうそうそ\n",
            "==================================================\n",
            "Iteration #: 38\n",
            "65/65 [==============================] - 1s 8ms/step - loss: 1.5531\n",
            "Generating form sead: 。「あだ名」がおかし\n",
            "。「あだ名」がおかしいい。。あれ、おかいらいー。あれとからいって。あー。あー。あー、うん。「地名1」は。「地名8」。「地名8」。「地名8」。「地名8」。「地名8」。「地名8」。「地名8」。「地名8」。「地名8」。「地名8\n",
            "==================================================\n",
            "Iteration #: 39\n",
            "65/65 [==============================] - 1s 9ms/step - loss: 1.4928\n",
            "Generating form sead: きるじゃん、2円で。\n",
            "きるじゃん、2円で。そうだよね。あれ、「地名2」か。そうそうそう。そうそう。そうそう。そうそう。そうそう。そうそう。そうそう。そうそう。そうそう。そうそう。そうそう。そうそう。そうそう。そうそう。そうそう。そうそう。そう\n",
            "==================================================\n",
            "Iteration #: 40\n",
            "65/65 [==============================] - 1s 8ms/step - loss: 1.4377\n",
            "Generating form sead: るね。なんかね、葉書\n",
            "るね。なんかね、葉書か、なのかなんかなん。書かないんなるかね。書かないんなんか。昼う、「人名14」さんちが、なんか、,パをパスしてるりとか、「人名1」君とか,,,。。してー。あれ。えん、「地名1」で、そうのそうそのだんな\n",
            "==================================================\n",
            "Iteration #: 41\n",
            "65/65 [==============================] - 1s 9ms/step - loss: 1.3766\n",
            "Generating form sead: 4年だもんね。早ーい\n",
            "4年だもんね。早ーいー。何何で、って、とかきってくんき、「人名1」さんと,,。がー。うちゃう、あれさ、「地名1」さ,。2名2春が。「地名1」君。「施設名1」。「地名2」、2年2春が。「地名1」「地名2」。「地名2」は。2\n",
            "==================================================\n",
            "Iteration #: 42\n",
            "65/65 [==============================] - 1s 8ms/step - loss: 1.3180\n",
            "Generating form sead: でー、あの、みんな食\n",
            "でー、あの、みんな食後てるだの。あんだ。おかしの、こんときして、なんね、「人名1」君ちゃんとに返ってくして、“あー、あー、こう、最宿だってさ、で、でかしたじゃん。そうそうそうそうそうそうそうそうそうそうそうそうそうそうそ\n",
            "==================================================\n",
            "Iteration #: 43\n",
            "65/65 [==============================] - 1s 8ms/step - loss: 1.2628\n",
            "Generating form sead: ッティの麺があるとか\n",
            "ッティの麺があるとか言ってさー、そうう。すってんない。で、なっから、なんからー、なって、なんかいない。か、なんから、なんか、なのからー、なって。うのないない。やって。なんか、「人名1」君と「人名2」とからしいいとか。やっ\n",
            "==================================================\n",
            "Iteration #: 44\n",
            "65/65 [==============================] - 1s 8ms/step - loss: 1.2089\n",
            "Generating form sead: ゃん。うっせーよ。今\n",
            "ゃん。うっせーよ。今、でみたでした、でしょの、あた、ねー。何そう、あー、春か、そう、そうそうそう。あーー、そう。うー。あれー。「地名1」。でー、そうそうそうそう。あーー、そう。うー。あれー。「地名1」。でー、そうそうそう\n",
            "==================================================\n",
            "Iteration #: 45\n",
            "65/65 [==============================] - 1s 8ms/step - loss: 1.1581\n",
            "Generating form sead: って、。。おかしいよ\n",
            "って、。。おかしいよ。そん。何が、「人名5」さんちがといた、行っかららして、とかしてらしけははト。だいのいてー、でももしたときは、10」てー。ってそう。そうそうそう。あー、「地名3」で,,。。がん、ゃってらしてさ,。はは\n",
            "==================================================\n",
            "Iteration #: 46\n",
            "65/65 [==============================] - 1s 8ms/step - loss: 1.1025\n",
            "Generating form sead: 、必須じゃないからさ\n",
            "、必須じゃないからさ、結構さのちゃ、ちょ、最とにくに買ってるてさー、あ、あたしがたこたのね、あた、とかしたん、そう、「人名4」さ、「人名1」ささんと、あのかしたり何しか、あたしででったたと、「人名5」君とか,,してーして\n",
            "==================================================\n",
            "Iteration #: 47\n",
            "65/65 [==============================] - 1s 9ms/step - loss: 1.0540\n",
            "Generating form sead: 、うちでも、そう、「\n",
            "、うちでも、そう、「学園祭名」の直後ら、ににーらら、みんだけどううそうそうそう。うん。「地名3」だよね。うん。うんだよ。そう、そうそう。そうそう。「地名3」だよね。うん。うんだよ。そう、そうそう。そうそう。「地名3」だよ\n",
            "==================================================\n",
            "Iteration #: 48\n",
            "65/65 [==============================] - 1s 9ms/step - loss: 1.0030\n",
            "Generating form sead: 。あーーー。そうそう\n",
            "。あーーー。そうそうだうん。あと、3「あああ、1」が、3年、あの、で、あ、その後ら、行っとからしいけど、結が、いだよね。。、が、3年だよね、1ね、3年、がんだい、あの、ら、何何とかしてって話そうん。で、あたしー、でも、そ\n",
            "==================================================\n",
            "Iteration #: 49\n",
            "65/65 [==============================] - 1s 9ms/step - loss: 0.9555\n",
            "Generating form sead: 。すごいやばーい。な\n",
            "。すごいやばーい。なんか、まだって書てさー。やって、じゃん。。なの、試合論のか合宿んのり回爆にしてたらしたらし、ね。かないた。。か、結構、ことか、う、今日れると、で、こののた。自ッッッッス。。はいねにこー。、ことに,,め\n"
          ],
          "name": "stdout"
        }
      ]
    },
    {
      "cell_type": "markdown",
      "metadata": {
        "id": "VpTb8nZmcMV3"
      },
      "source": [
        "## モデルの保存"
      ]
    },
    {
      "cell_type": "code",
      "metadata": {
        "id": "OCqcqHnrrVKf"
      },
      "source": [
        "import os\r\n",
        "#resultsディレクトリを作成\r\n",
        "result_dir = 'results'\r\n",
        "if not os.path.exists(result_dir):\r\n",
        "    os.mkdir(result_dir)\r\n",
        "\r\n",
        "# 作成したモデルを保存\r\n",
        "model.save('Bi-directional_model.h5')"
      ],
      "execution_count": 12,
      "outputs": []
    },
    {
      "cell_type": "code",
      "metadata": {
        "colab": {
          "base_uri": "https://localhost:8080/",
          "height": 17
        },
        "id": "lU9nFGShc4zc",
        "outputId": "4263547d-ae70-479d-db50-636b908d2f24"
      },
      "source": [
        "# result_dirをローカルに保存\r\n",
        "from google.colab import files\r\n",
        "files.download('/content/Bi-directional_model.h5') "
      ],
      "execution_count": 13,
      "outputs": [
        {
          "output_type": "display_data",
          "data": {
            "application/javascript": [
              "\n",
              "    async function download(id, filename, size) {\n",
              "      if (!google.colab.kernel.accessAllowed) {\n",
              "        return;\n",
              "      }\n",
              "      const div = document.createElement('div');\n",
              "      const label = document.createElement('label');\n",
              "      label.textContent = `Downloading \"${filename}\": `;\n",
              "      div.appendChild(label);\n",
              "      const progress = document.createElement('progress');\n",
              "      progress.max = size;\n",
              "      div.appendChild(progress);\n",
              "      document.body.appendChild(div);\n",
              "\n",
              "      const buffers = [];\n",
              "      let downloaded = 0;\n",
              "\n",
              "      const channel = await google.colab.kernel.comms.open(id);\n",
              "      // Send a message to notify the kernel that we're ready.\n",
              "      channel.send({})\n",
              "\n",
              "      for await (const message of channel.messages) {\n",
              "        // Send a message to notify the kernel that we're ready.\n",
              "        channel.send({})\n",
              "        if (message.buffers) {\n",
              "          for (const buffer of message.buffers) {\n",
              "            buffers.push(buffer);\n",
              "            downloaded += buffer.byteLength;\n",
              "            progress.value = downloaded;\n",
              "          }\n",
              "        }\n",
              "      }\n",
              "      const blob = new Blob(buffers, {type: 'application/binary'});\n",
              "      const a = document.createElement('a');\n",
              "      a.href = window.URL.createObjectURL(blob);\n",
              "      a.download = filename;\n",
              "      div.appendChild(a);\n",
              "      a.click();\n",
              "      div.remove();\n",
              "    }\n",
              "  "
            ],
            "text/plain": [
              "<IPython.core.display.Javascript object>"
            ]
          },
          "metadata": {
            "tags": []
          }
        },
        {
          "output_type": "display_data",
          "data": {
            "application/javascript": [
              "download(\"download_53793215-dc28-4cc0-94c9-4945fea8e45c\", \"Bi-directional_model.h5\", 5637628)"
            ],
            "text/plain": [
              "<IPython.core.display.Javascript object>"
            ]
          },
          "metadata": {
            "tags": []
          }
        }
      ]
    },
    {
      "cell_type": "code",
      "metadata": {
        "id": "d5Ygpo2MdZTZ"
      },
      "source": [
        ""
      ],
      "execution_count": null,
      "outputs": []
    }
  ]
}